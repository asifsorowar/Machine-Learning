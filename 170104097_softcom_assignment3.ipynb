{
  "nbformat": 4,
  "nbformat_minor": 0,
  "metadata": {
    "colab": {
      "name": "170104097_softcom_assignment3.ipynb",
      "provenance": [],
      "collapsed_sections": [],
      "toc_visible": true
    },
    "kernelspec": {
      "name": "python3",
      "display_name": "Python 3"
    },
    "language_info": {
      "name": "python"
    },
    "accelerator": "GPU"
  },
  "cells": [
    {
      "cell_type": "markdown",
      "metadata": {
        "id": "VYlHeLVLxYi4"
      },
      "source": [
        "ID = 170104097\n",
        "\n",
        "Last 3 digits = 97\n",
        "\n",
        "---\n",
        "\n",
        "**Dataset Selection**\n",
        "\n",
        "97 \\% 3 = 1 and so [Dataset 2](https://drive.google.com/file/d/1L7gRzRsyWzQ6jtRg86q81aVfKbREYv2A/view).\n",
        "\n",
        "---\n",
        "\n",
        "**Model**\n",
        "\n",
        "\n",
        "(97 + 2) \\% 5 = 99 \\% 5 = 4\n",
        "\n",
        "Hence, the required model is use of **Bidirectional RNN**\n",
        "\n",
        "---\n"
      ]
    },
    {
      "cell_type": "code",
      "metadata": {
        "id": "C7RxCMuHNDlx"
      },
      "source": [
        "import numpy as np\n",
        "import pandas as pd\n",
        "import seaborn as sns\n",
        "import tensorflow as tf\n",
        "import matplotlib.pyplot as plt\n",
        "\n",
        "from keras.preprocessing.text import Tokenizer\n",
        "from keras.preprocessing.sequence import pad_sequences\n",
        "from keras.models import Sequential\n",
        "from keras import layers\n",
        "from keras import backend as K\n",
        "from keras.utils.vis_utils import plot_model\n",
        "\n",
        "from sklearn.metrics import accuracy_score\n",
        "from sklearn.metrics import precision_score\n",
        "from sklearn.metrics import recall_score\n",
        "from sklearn.metrics import f1_score\n",
        "from sklearn.metrics import confusion_matrix"
      ],
      "execution_count": 2,
      "outputs": []
    },
    {
      "cell_type": "code",
      "metadata": {
        "id": "E_W1JqdvLpHI",
        "colab": {
          "base_uri": "https://localhost:8080/"
        },
        "outputId": "7602e8ce-6303-48d8-9290-2a65c6815ec5"
      },
      "source": [
        "# The dataset => https://drive.google.com/file/d/1L7gRzRsyWzQ6jtRg86q81aVfKbREYv2A/view\n",
        "!gdown --id 1L7gRzRsyWzQ6jtRg86q81aVfKbREYv2A"
      ],
      "execution_count": 3,
      "outputs": [
        {
          "output_type": "stream",
          "name": "stdout",
          "text": [
            "Downloading...\n",
            "From: https://drive.google.com/uc?id=1L7gRzRsyWzQ6jtRg86q81aVfKbREYv2A\n",
            "To: /content/Dataset 2.csv\n",
            "\r  0% 0.00/999k [00:00<?, ?B/s]\r100% 999k/999k [00:00<00:00, 63.3MB/s]\n"
          ]
        }
      ]
    },
    {
      "cell_type": "code",
      "metadata": {
        "colab": {
          "base_uri": "https://localhost:8080/",
          "height": 204
        },
        "id": "Qy1qO3NsOYcp",
        "outputId": "dca55e3f-58ec-46b1-bd95-fbaf21542291"
      },
      "source": [
        "data = pd.read_csv('/content/Dataset 2.csv', engine = 'python')\n",
        "\n",
        "data.head()"
      ],
      "execution_count": 4,
      "outputs": [
        {
          "output_type": "execute_result",
          "data": {
            "text/html": [
              "<div>\n",
              "<style scoped>\n",
              "    .dataframe tbody tr th:only-of-type {\n",
              "        vertical-align: middle;\n",
              "    }\n",
              "\n",
              "    .dataframe tbody tr th {\n",
              "        vertical-align: top;\n",
              "    }\n",
              "\n",
              "    .dataframe thead th {\n",
              "        text-align: right;\n",
              "    }\n",
              "</style>\n",
              "<table border=\"1\" class=\"dataframe\">\n",
              "  <thead>\n",
              "    <tr style=\"text-align: right;\">\n",
              "      <th></th>\n",
              "      <th>text</th>\n",
              "      <th>polarity</th>\n",
              "    </tr>\n",
              "  </thead>\n",
              "  <tbody>\n",
              "    <tr>\n",
              "      <th>0</th>\n",
              "      <td>just had a real good moment. i missssssssss hi...</td>\n",
              "      <td>0</td>\n",
              "    </tr>\n",
              "    <tr>\n",
              "      <th>1</th>\n",
              "      <td>is reading manga  http://plurk.com/p/mzp1e</td>\n",
              "      <td>0</td>\n",
              "    </tr>\n",
              "    <tr>\n",
              "      <th>2</th>\n",
              "      <td>@comeagainjen http://twitpic.com/2y2lx - http:...</td>\n",
              "      <td>0</td>\n",
              "    </tr>\n",
              "    <tr>\n",
              "      <th>3</th>\n",
              "      <td>@lapcat Need to send 'em to my accountant tomo...</td>\n",
              "      <td>0</td>\n",
              "    </tr>\n",
              "    <tr>\n",
              "      <th>4</th>\n",
              "      <td>ADD ME ON MYSPACE!!!  myspace.com/LookThunder</td>\n",
              "      <td>0</td>\n",
              "    </tr>\n",
              "  </tbody>\n",
              "</table>\n",
              "</div>"
            ],
            "text/plain": [
              "                                                text  polarity\n",
              "0  just had a real good moment. i missssssssss hi...         0\n",
              "1         is reading manga  http://plurk.com/p/mzp1e         0\n",
              "2  @comeagainjen http://twitpic.com/2y2lx - http:...         0\n",
              "3  @lapcat Need to send 'em to my accountant tomo...         0\n",
              "4      ADD ME ON MYSPACE!!!  myspace.com/LookThunder         0"
            ]
          },
          "metadata": {},
          "execution_count": 4
        }
      ]
    },
    {
      "cell_type": "code",
      "metadata": {
        "colab": {
          "base_uri": "https://localhost:8080/",
          "height": 470
        },
        "id": "gAT9svnKrMI9",
        "outputId": "ee16a478-22cb-4475-e2fe-2c40b13aa763"
      },
      "source": [
        "data = data.sample(frac = 1., random_state = 14).reset_index(drop = True)\n",
        "\n",
        "print(data['polarity'].value_counts(0))\n",
        "data"
      ],
      "execution_count": 5,
      "outputs": [
        {
          "output_type": "stream",
          "name": "stdout",
          "text": [
            "0    8000\n",
            "1    2314\n",
            "Name: polarity, dtype: int64\n"
          ]
        },
        {
          "output_type": "execute_result",
          "data": {
            "text/html": [
              "<div>\n",
              "<style scoped>\n",
              "    .dataframe tbody tr th:only-of-type {\n",
              "        vertical-align: middle;\n",
              "    }\n",
              "\n",
              "    .dataframe tbody tr th {\n",
              "        vertical-align: top;\n",
              "    }\n",
              "\n",
              "    .dataframe thead th {\n",
              "        text-align: right;\n",
              "    }\n",
              "</style>\n",
              "<table border=\"1\" class=\"dataframe\">\n",
              "  <thead>\n",
              "    <tr style=\"text-align: right;\">\n",
              "      <th></th>\n",
              "      <th>text</th>\n",
              "      <th>polarity</th>\n",
              "    </tr>\n",
              "  </thead>\n",
              "  <tbody>\n",
              "    <tr>\n",
              "      <th>0</th>\n",
              "      <td>@1WineDude That's a really cool giveaway!</td>\n",
              "      <td>0</td>\n",
              "    </tr>\n",
              "    <tr>\n",
              "      <th>1</th>\n",
              "      <td>Need a good web series? Check out GIANTS on Yo...</td>\n",
              "      <td>1</td>\n",
              "    </tr>\n",
              "    <tr>\n",
              "      <th>2</th>\n",
              "      <td>Procastinated by doing up a new playlist for T...</td>\n",
              "      <td>0</td>\n",
              "    </tr>\n",
              "    <tr>\n",
              "      <th>3</th>\n",
              "      <td>@ZeenaBoBeena eeeek!!!! Good luck, Zeena!!! Yo...</td>\n",
              "      <td>0</td>\n",
              "    </tr>\n",
              "    <tr>\n",
              "      <th>4</th>\n",
              "      <td>@ChynaDoll74 Good morning to you too</td>\n",
              "      <td>0</td>\n",
              "    </tr>\n",
              "    <tr>\n",
              "      <th>...</th>\n",
              "      <td>...</td>\n",
              "      <td>...</td>\n",
              "    </tr>\n",
              "    <tr>\n",
              "      <th>10309</th>\n",
              "      <td>Summer session starts today  Why am I smiling.</td>\n",
              "      <td>0</td>\n",
              "    </tr>\n",
              "    <tr>\n",
              "      <th>10310</th>\n",
              "      <td>@Desireeeeee really me to.!</td>\n",
              "      <td>0</td>\n",
              "    </tr>\n",
              "    <tr>\n",
              "      <th>10311</th>\n",
              "      <td>@Jason_Pollock I think they heard you.</td>\n",
              "      <td>0</td>\n",
              "    </tr>\n",
              "    <tr>\n",
              "      <th>10312</th>\n",
              "      <td>@OliviaMaynard13 You're most welcome. I don't ...</td>\n",
              "      <td>1</td>\n",
              "    </tr>\n",
              "    <tr>\n",
              "      <th>10313</th>\n",
              "      <td>Lakers is the best team of the west conference</td>\n",
              "      <td>0</td>\n",
              "    </tr>\n",
              "  </tbody>\n",
              "</table>\n",
              "<p>10314 rows × 2 columns</p>\n",
              "</div>"
            ],
            "text/plain": [
              "                                                    text  polarity\n",
              "0             @1WineDude That's a really cool giveaway!          0\n",
              "1      Need a good web series? Check out GIANTS on Yo...         1\n",
              "2      Procastinated by doing up a new playlist for T...         0\n",
              "3      @ZeenaBoBeena eeeek!!!! Good luck, Zeena!!! Yo...         0\n",
              "4                  @ChynaDoll74 Good morning to you too          0\n",
              "...                                                  ...       ...\n",
              "10309     Summer session starts today  Why am I smiling.         0\n",
              "10310                       @Desireeeeee really me to.!          0\n",
              "10311            @Jason_Pollock I think they heard you.          0\n",
              "10312  @OliviaMaynard13 You're most welcome. I don't ...         1\n",
              "10313    Lakers is the best team of the west conference          0\n",
              "\n",
              "[10314 rows x 2 columns]"
            ]
          },
          "metadata": {},
          "execution_count": 5
        }
      ]
    },
    {
      "cell_type": "code",
      "metadata": {
        "colab": {
          "base_uri": "https://localhost:8080/",
          "height": 350
        },
        "id": "fNpHAxAf5ZmR",
        "outputId": "0d01ec58-db3e-4014-f874-808bfb3d74e2"
      },
      "source": [
        "sns.set_style(\"darkgrid\")\n",
        "sns.countplot(data['polarity'])"
      ],
      "execution_count": 6,
      "outputs": [
        {
          "output_type": "stream",
          "name": "stderr",
          "text": [
            "/usr/local/lib/python3.7/dist-packages/seaborn/_decorators.py:43: FutureWarning: Pass the following variable as a keyword arg: x. From version 0.12, the only valid positional argument will be `data`, and passing other arguments without an explicit keyword will result in an error or misinterpretation.\n",
            "  FutureWarning\n"
          ]
        },
        {
          "output_type": "execute_result",
          "data": {
            "text/plain": [
              "<matplotlib.axes._subplots.AxesSubplot at 0x7f3f4ede5c90>"
            ]
          },
          "metadata": {},
          "execution_count": 6
        },
        {
          "output_type": "display_data",
          "data": {
            "image/png": "[encoded data removed]",
            "text/plain": [
              "<Figure size 432x288 with 1 Axes>"
            ]
          },
          "metadata": {}
        }
      ]
    },
    {
      "cell_type": "code",
      "metadata": {
        "colab": {
          "base_uri": "https://localhost:8080/",
          "height": 380
        },
        "id": "IjkKSTTw5-sH",
        "outputId": "747456a0-e60b-4efc-c8eb-38cb6fe00c70"
      },
      "source": [
        "exp_labels=['0','1']\n",
        "\n",
        "fig1, ax1 = plt.subplots()\n",
        "\n",
        "_, _, autopcts = ax1.pie(data['polarity'].value_counts(),explode= None, labels=exp_labels,autopct='%0.2f%%',\n",
        "        radius=2, shadow=False, startangle=40, colors=('tab:blue', 'tab:red') )\n",
        "\n",
        "plt.setp(autopcts, **{'color':'white', 'weight':'bold', 'fontsize':16})\n",
        "plt.show()"
      ],
      "execution_count": 7,
      "outputs": [
        {
          "output_type": "display_data",
          "data": {
            "image/png": "[encoded data removed]",
            "text/plain": [
              "<Figure size 432x288 with 1 Axes>"
            ]
          },
          "metadata": {}
        }
      ]
    },
    {
      "cell_type": "markdown",
      "metadata": {
        "id": "z2h8tQQq1Igx"
      },
      "source": [
        "## Dividing Dataset\n",
        "---\n",
        "Dividing dataset into 6:2:2 ratio as Training:Validation:Testing."
      ]
    },
    {
      "cell_type": "code",
      "metadata": {
        "id": "vXk1PKKmPuNI"
      },
      "source": [
        "EPOCH = 10\n",
        "\n",
        "split_val = int(0.2 * data.shape[0])\n",
        "\n",
        "dataTest = data.iloc[-split_val :]\n",
        "dataVal = data.iloc[- 2 * split_val : -split_val]\n",
        "dataTrain = data.iloc[: - 2 * split_val]"
      ],
      "execution_count": 8,
      "outputs": []
    },
    {
      "cell_type": "code",
      "metadata": {
        "colab": {
          "base_uri": "https://localhost:8080/"
        },
        "id": "UGdI2naOT30a",
        "outputId": "c50501af-d520-4671-b7c6-8f005382329c"
      },
      "source": [
        "print(split_val)\n",
        "print(len(dataTest))\n",
        "print(len(dataVal))\n",
        "print(len(dataTrain))"
      ],
      "execution_count": 9,
      "outputs": [
        {
          "output_type": "stream",
          "name": "stdout",
          "text": [
            "2062\n",
            "2062\n",
            "2062\n",
            "6190\n"
          ]
        }
      ]
    },
    {
      "cell_type": "code",
      "metadata": {
        "colab": {
          "base_uri": "https://localhost:8080/",
          "height": 470
        },
        "id": "aMhe-A-lr4fH",
        "outputId": "85846992-1b4a-4457-a3e0-5cb7f35385e5"
      },
      "source": [
        "print(dataTrain['polarity'].value_counts())\n",
        "\n",
        "dataTrain"
      ],
      "execution_count": 10,
      "outputs": [
        {
          "output_type": "stream",
          "name": "stdout",
          "text": [
            "0    4784\n",
            "1    1406\n",
            "Name: polarity, dtype: int64\n"
          ]
        },
        {
          "output_type": "execute_result",
          "data": {
            "text/html": [
              "<div>\n",
              "<style scoped>\n",
              "    .dataframe tbody tr th:only-of-type {\n",
              "        vertical-align: middle;\n",
              "    }\n",
              "\n",
              "    .dataframe tbody tr th {\n",
              "        vertical-align: top;\n",
              "    }\n",
              "\n",
              "    .dataframe thead th {\n",
              "        text-align: right;\n",
              "    }\n",
              "</style>\n",
              "<table border=\"1\" class=\"dataframe\">\n",
              "  <thead>\n",
              "    <tr style=\"text-align: right;\">\n",
              "      <th></th>\n",
              "      <th>text</th>\n",
              "      <th>polarity</th>\n",
              "    </tr>\n",
              "  </thead>\n",
              "  <tbody>\n",
              "    <tr>\n",
              "      <th>0</th>\n",
              "      <td>@1WineDude That's a really cool giveaway!</td>\n",
              "      <td>0</td>\n",
              "    </tr>\n",
              "    <tr>\n",
              "      <th>1</th>\n",
              "      <td>Need a good web series? Check out GIANTS on Yo...</td>\n",
              "      <td>1</td>\n",
              "    </tr>\n",
              "    <tr>\n",
              "      <th>2</th>\n",
              "      <td>Procastinated by doing up a new playlist for T...</td>\n",
              "      <td>0</td>\n",
              "    </tr>\n",
              "    <tr>\n",
              "      <th>3</th>\n",
              "      <td>@ZeenaBoBeena eeeek!!!! Good luck, Zeena!!! Yo...</td>\n",
              "      <td>0</td>\n",
              "    </tr>\n",
              "    <tr>\n",
              "      <th>4</th>\n",
              "      <td>@ChynaDoll74 Good morning to you too</td>\n",
              "      <td>0</td>\n",
              "    </tr>\n",
              "    <tr>\n",
              "      <th>...</th>\n",
              "      <td>...</td>\n",
              "      <td>...</td>\n",
              "    </tr>\n",
              "    <tr>\n",
              "      <th>6185</th>\n",
              "      <td>free draw, lit easily, puffing away</td>\n",
              "      <td>0</td>\n",
              "    </tr>\n",
              "    <tr>\n",
              "      <th>6186</th>\n",
              "      <td>Depression is coming i feel it my veins just w...</td>\n",
              "      <td>1</td>\n",
              "    </tr>\n",
              "    <tr>\n",
              "      <th>6187</th>\n",
              "      <td>at gator joe's with heather and then movies to...</td>\n",
              "      <td>0</td>\n",
              "    </tr>\n",
              "    <tr>\n",
              "      <th>6188</th>\n",
              "      <td>Ughhh so over nightmares - So Instead of sleep...</td>\n",
              "      <td>0</td>\n",
              "    </tr>\n",
              "    <tr>\n",
              "      <th>6189</th>\n",
              "      <td>@pinkelephantpun Books on tape or cd makes the...</td>\n",
              "      <td>0</td>\n",
              "    </tr>\n",
              "  </tbody>\n",
              "</table>\n",
              "<p>6190 rows × 2 columns</p>\n",
              "</div>"
            ],
            "text/plain": [
              "                                                   text  polarity\n",
              "0            @1WineDude That's a really cool giveaway!          0\n",
              "1     Need a good web series? Check out GIANTS on Yo...         1\n",
              "2     Procastinated by doing up a new playlist for T...         0\n",
              "3     @ZeenaBoBeena eeeek!!!! Good luck, Zeena!!! Yo...         0\n",
              "4                 @ChynaDoll74 Good morning to you too          0\n",
              "...                                                 ...       ...\n",
              "6185               free draw, lit easily, puffing away          0\n",
              "6186  Depression is coming i feel it my veins just w...         1\n",
              "6187  at gator joe's with heather and then movies to...         0\n",
              "6188  Ughhh so over nightmares - So Instead of sleep...         0\n",
              "6189  @pinkelephantpun Books on tape or cd makes the...         0\n",
              "\n",
              "[6190 rows x 2 columns]"
            ]
          },
          "metadata": {},
          "execution_count": 10
        }
      ]
    },
    {
      "cell_type": "code",
      "metadata": {
        "colab": {
          "base_uri": "https://localhost:8080/",
          "height": 470
        },
        "id": "l2tTMKOsr4X0",
        "outputId": "7e89c97c-cf39-4628-cc91-eba017a186df"
      },
      "source": [
        "print(dataVal['polarity'].value_counts())\n",
        "\n",
        "dataVal"
      ],
      "execution_count": 11,
      "outputs": [
        {
          "output_type": "stream",
          "name": "stdout",
          "text": [
            "0    1606\n",
            "1     456\n",
            "Name: polarity, dtype: int64\n"
          ]
        },
        {
          "output_type": "execute_result",
          "data": {
            "text/html": [
              "<div>\n",
              "<style scoped>\n",
              "    .dataframe tbody tr th:only-of-type {\n",
              "        vertical-align: middle;\n",
              "    }\n",
              "\n",
              "    .dataframe tbody tr th {\n",
              "        vertical-align: top;\n",
              "    }\n",
              "\n",
              "    .dataframe thead th {\n",
              "        text-align: right;\n",
              "    }\n",
              "</style>\n",
              "<table border=\"1\" class=\"dataframe\">\n",
              "  <thead>\n",
              "    <tr style=\"text-align: right;\">\n",
              "      <th></th>\n",
              "      <th>text</th>\n",
              "      <th>polarity</th>\n",
              "    </tr>\n",
              "  </thead>\n",
              "  <tbody>\n",
              "    <tr>\n",
              "      <th>6190</th>\n",
              "      <td>@pilucha ok, no more drinking away of the sorr...</td>\n",
              "      <td>0</td>\n",
              "    </tr>\n",
              "    <tr>\n",
              "      <th>6191</th>\n",
              "      <td>Earl's wearing a tie</td>\n",
              "      <td>0</td>\n",
              "    </tr>\n",
              "    <tr>\n",
              "      <th>6192</th>\n",
              "      <td>Loving @gilesbennet teaching style - like Dr S...</td>\n",
              "      <td>0</td>\n",
              "    </tr>\n",
              "    <tr>\n",
              "      <th>6193</th>\n",
              "      <td>hangin with ledd nd court.</td>\n",
              "      <td>0</td>\n",
              "    </tr>\n",
              "    <tr>\n",
              "      <th>6194</th>\n",
              "      <td>under 24 hours left to vote for @protagonize a...</td>\n",
              "      <td>0</td>\n",
              "    </tr>\n",
              "    <tr>\n",
              "      <th>...</th>\n",
              "      <td>...</td>\n",
              "      <td>...</td>\n",
              "    </tr>\n",
              "    <tr>\n",
              "      <th>8247</th>\n",
              "      <td>Look at the cute hat I got today...I look scar...</td>\n",
              "      <td>0</td>\n",
              "    </tr>\n",
              "    <tr>\n",
              "      <th>8248</th>\n",
              "      <td>@firesty hey ya )) like ur new pic  i have one...</td>\n",
              "      <td>0</td>\n",
              "    </tr>\n",
              "    <tr>\n",
              "      <th>8249</th>\n",
              "      <td>@Styla73 Thank you.</td>\n",
              "      <td>0</td>\n",
              "    </tr>\n",
              "    <tr>\n",
              "      <th>8250</th>\n",
              "      <td>@stephjonesmusic http://twitpic.com/6bclz - ah...</td>\n",
              "      <td>0</td>\n",
              "    </tr>\n",
              "    <tr>\n",
              "      <th>8251</th>\n",
              "      <td>RT @FamAcupuncture: Treating Depression With F...</td>\n",
              "      <td>1</td>\n",
              "    </tr>\n",
              "  </tbody>\n",
              "</table>\n",
              "<p>2062 rows × 2 columns</p>\n",
              "</div>"
            ],
            "text/plain": [
              "                                                   text  polarity\n",
              "6190  @pilucha ok, no more drinking away of the sorr...         0\n",
              "6191                              Earl's wearing a tie          0\n",
              "6192  Loving @gilesbennet teaching style - like Dr S...         0\n",
              "6193                        hangin with ledd nd court.          0\n",
              "6194  under 24 hours left to vote for @protagonize a...         0\n",
              "...                                                 ...       ...\n",
              "8247  Look at the cute hat I got today...I look scar...         0\n",
              "8248  @firesty hey ya )) like ur new pic  i have one...         0\n",
              "8249                               @Styla73 Thank you.          0\n",
              "8250  @stephjonesmusic http://twitpic.com/6bclz - ah...         0\n",
              "8251  RT @FamAcupuncture: Treating Depression With F...         1\n",
              "\n",
              "[2062 rows x 2 columns]"
            ]
          },
          "metadata": {},
          "execution_count": 11
        }
      ]
    },
    {
      "cell_type": "code",
      "metadata": {
        "colab": {
          "base_uri": "https://localhost:8080/",
          "height": 470
        },
        "id": "GdtDG4BLr4Hc",
        "outputId": "3a977d9d-8f93-4fb3-87fe-16ef940f2bfe"
      },
      "source": [
        "print(dataTest['polarity'].value_counts())\n",
        "\n",
        "dataTest"
      ],
      "execution_count": 12,
      "outputs": [
        {
          "output_type": "stream",
          "name": "stdout",
          "text": [
            "0    1610\n",
            "1     452\n",
            "Name: polarity, dtype: int64\n"
          ]
        },
        {
          "output_type": "execute_result",
          "data": {
            "text/html": [
              "<div>\n",
              "<style scoped>\n",
              "    .dataframe tbody tr th:only-of-type {\n",
              "        vertical-align: middle;\n",
              "    }\n",
              "\n",
              "    .dataframe tbody tr th {\n",
              "        vertical-align: top;\n",
              "    }\n",
              "\n",
              "    .dataframe thead th {\n",
              "        text-align: right;\n",
              "    }\n",
              "</style>\n",
              "<table border=\"1\" class=\"dataframe\">\n",
              "  <thead>\n",
              "    <tr style=\"text-align: right;\">\n",
              "      <th></th>\n",
              "      <th>text</th>\n",
              "      <th>polarity</th>\n",
              "    </tr>\n",
              "  </thead>\n",
              "  <tbody>\n",
              "    <tr>\n",
              "      <th>8252</th>\n",
              "      <td>One of my mini poems. #helenswriting#mentalhea...</td>\n",
              "      <td>1</td>\n",
              "    </tr>\n",
              "    <tr>\n",
              "      <th>8253</th>\n",
              "      <td>@y2kprawn you went to college here? Didn't kno...</td>\n",
              "      <td>0</td>\n",
              "    </tr>\n",
              "    <tr>\n",
              "      <th>8254</th>\n",
              "      <td>The Young Life Podcast #1 - Depression 101:  h...</td>\n",
              "      <td>1</td>\n",
              "    </tr>\n",
              "    <tr>\n",
              "      <th>8255</th>\n",
              "      <td>'s hair is so soft today.</td>\n",
              "      <td>0</td>\n",
              "    </tr>\n",
              "    <tr>\n",
              "      <th>8256</th>\n",
              "      <td>At the point where I'm legitimately pissed whe...</td>\n",
              "      <td>1</td>\n",
              "    </tr>\n",
              "    <tr>\n",
              "      <th>...</th>\n",
              "      <td>...</td>\n",
              "      <td>...</td>\n",
              "    </tr>\n",
              "    <tr>\n",
              "      <th>10309</th>\n",
              "      <td>Summer session starts today  Why am I smiling.</td>\n",
              "      <td>0</td>\n",
              "    </tr>\n",
              "    <tr>\n",
              "      <th>10310</th>\n",
              "      <td>@Desireeeeee really me to.!</td>\n",
              "      <td>0</td>\n",
              "    </tr>\n",
              "    <tr>\n",
              "      <th>10311</th>\n",
              "      <td>@Jason_Pollock I think they heard you.</td>\n",
              "      <td>0</td>\n",
              "    </tr>\n",
              "    <tr>\n",
              "      <th>10312</th>\n",
              "      <td>@OliviaMaynard13 You're most welcome. I don't ...</td>\n",
              "      <td>1</td>\n",
              "    </tr>\n",
              "    <tr>\n",
              "      <th>10313</th>\n",
              "      <td>Lakers is the best team of the west conference</td>\n",
              "      <td>0</td>\n",
              "    </tr>\n",
              "  </tbody>\n",
              "</table>\n",
              "<p>2062 rows × 2 columns</p>\n",
              "</div>"
            ],
            "text/plain": [
              "                                                    text  polarity\n",
              "8252   One of my mini poems. #helenswriting#mentalhea...         1\n",
              "8253   @y2kprawn you went to college here? Didn't kno...         0\n",
              "8254   The Young Life Podcast #1 - Depression 101:  h...         1\n",
              "8255                          's hair is so soft today.          0\n",
              "8256   At the point where I'm legitimately pissed whe...         1\n",
              "...                                                  ...       ...\n",
              "10309     Summer session starts today  Why am I smiling.         0\n",
              "10310                       @Desireeeeee really me to.!          0\n",
              "10311            @Jason_Pollock I think they heard you.          0\n",
              "10312  @OliviaMaynard13 You're most welcome. I don't ...         1\n",
              "10313    Lakers is the best team of the west conference          0\n",
              "\n",
              "[2062 rows x 2 columns]"
            ]
          },
          "metadata": {},
          "execution_count": 12
        }
      ]
    },
    {
      "cell_type": "code",
      "metadata": {
        "id": "q9B1E-0HMG6C"
      },
      "source": [
        "trainX = np.array(dataTrain.iloc[:, 0])\n",
        "trainY = np.array(dataTrain.iloc[:, 1])\n",
        "\n",
        "valX = np.array(dataVal.iloc[:, 0])\n",
        "valY = np.array(dataVal.iloc[:, 1])\n",
        "\n",
        "testX = np.array(dataTest.iloc[:, 0])\n",
        "testY = np.array(dataTest.iloc[:, 1])"
      ],
      "execution_count": 13,
      "outputs": []
    },
    {
      "cell_type": "code",
      "metadata": {
        "id": "Oqe-uYGSwRwS"
      },
      "source": [
        "top_k = 50000\n",
        "tokenizer = tf.keras.preprocessing.text.Tokenizer(num_words = top_k,\n",
        "                                                  oov_token = \"<unk>\",\n",
        "                                                  filters = '!\"#$%&()*+.,-/:;=?@[\\]^_`{|}~')\n",
        "tokenizer.fit_on_texts(trainX)\n",
        "\n",
        "tokenizer.word_index['<pad>'] = 0\n",
        "tokenizer.index_word[0] = '<pad>'\n",
        "\n",
        "train_seqs = tokenizer.texts_to_sequences(trainX)\n",
        "val_seqs = tokenizer.texts_to_sequences(valX)\n",
        "test_seqs = tokenizer.texts_to_sequences(testX)\n",
        "\n",
        "train_seqs = tf.keras.preprocessing.sequence.pad_sequences(train_seqs, padding = 'pre')\n",
        "val_seqs = tf.keras.preprocessing.sequence.pad_sequences(val_seqs, padding = 'pre')\n",
        "test_seqs = tf.keras.preprocessing.sequence.pad_sequences(test_seqs, padding = 'pre')"
      ],
      "execution_count": 14,
      "outputs": []
    },
    {
      "cell_type": "code",
      "metadata": {
        "colab": {
          "base_uri": "https://localhost:8080/",
          "height": 1000
        },
        "id": "n_RY5Ezx6bPg",
        "outputId": "c611211d-a26c-4106-f1aa-09e8791653e9"
      },
      "source": [
        "model = Sequential()\n",
        "model.add(layers.Embedding(len(tokenizer.word_index), 128))\n",
        "model.add(layers.Bidirectional(layers.SimpleRNN(128, return_sequences = True, dropout = 0.2)))\n",
        "model.add(layers.Bidirectional(layers.SimpleRNN(256, return_sequences = True, dropout = 0.2)))\n",
        "model.add(layers.Bidirectional(layers.SimpleRNN(64, return_sequences = True, dropout = 0.2)))\n",
        "model.add(layers.Bidirectional(layers.SimpleRNN(4, dropout = 0.2)))\n",
        "model.add(layers.Dense(1, activation = 'sigmoid'))\n",
        "\n",
        "model.compile(loss = 'binary_crossentropy', optimizer = 'adam', metrics = ['accuracy'])\n",
        "\n",
        "model.summary()\n",
        "plot_model(model, to_file = 'model_plot.png', show_shapes = True, show_layer_names = True)"
      ],
      "execution_count": 56,
      "outputs": [
        {
          "output_type": "stream",
          "name": "stdout",
          "text": [
            "Model: \"sequential_4\"\n",
            "_________________________________________________________________\n",
            "Layer (type)                 Output Shape              Param #   \n",
            "=================================================================\n",
            "embedding_4 (Embedding)      (None, None, 128)         2072576   \n",
            "_________________________________________________________________\n",
            "bidirectional_14 (Bidirectio (None, None, 256)         65792     \n",
            "_________________________________________________________________\n",
            "bidirectional_15 (Bidirectio (None, None, 512)         262656    \n",
            "_________________________________________________________________\n",
            "bidirectional_16 (Bidirectio (None, None, 128)         73856     \n",
            "_________________________________________________________________\n",
            "bidirectional_17 (Bidirectio (None, 8)                 1064      \n",
            "_________________________________________________________________\n",
            "dense_4 (Dense)              (None, 1)                 9         \n",
            "=================================================================\n",
            "Total params: 2,475,953\n",
            "Trainable params: 2,475,953\n",
            "Non-trainable params: 0\n",
            "_________________________________________________________________\n"
          ]
        },
        {
          "output_type": "execute_result",
          "data": {
            "image/png": "[encoded data removed]",
            "text/plain": [
              "<IPython.core.display.Image object>"
            ]
          },
          "metadata": {},
          "execution_count": 56
        }
      ]
    },
    {
      "cell_type": "code",
      "metadata": {
        "colab": {
          "base_uri": "https://localhost:8080/",
          "height": 1000
        },
        "id": "nAbjsYuD6pOw",
        "outputId": "838de858-e9cc-46bd-ebec-c3d033accda2"
      },
      "source": [
        "history = model.fit(train_seqs, trainY, epochs = EPOCH, batch_size=256, validation_data = (val_seqs, valY), verbose = 1)\n",
        "\n",
        "def plot_graphs(history, string):\n",
        "  plt.plot(history.history[string])\n",
        "  plt.plot(history.history['val_'+string])\n",
        "  plt.xlabel(\"Epochs\")\n",
        "  plt.ylabel(string)\n",
        "  plt.legend([string, 'val_'+string])\n",
        "  plt.show()\n",
        "\n",
        "plot_graphs(history, 'accuracy')\n",
        "plot_graphs(history, 'loss')\n",
        "\n",
        "print('\\nEpoch No.  Train Accuracy  Train Loss     Val Accuracy    Val Loss')\n",
        "for i in range(EPOCH):\n",
        "  print('{:8d} {:10f} \\t {:10f} \\t {:10f} \\t {:10f}'.format(i + 1, history.history['accuracy'][i], history.history['loss'][i], history.history['val_accuracy'][i], history.history['val_loss'][i]))"
      ],
      "execution_count": 57,
      "outputs": [
        {
          "output_type": "stream",
          "name": "stdout",
          "text": [
            "Epoch 1/10\n",
            "25/25 [==============================] - 33s 1s/step - loss: 0.5449 - accuracy: 0.7565 - val_loss: 0.4953 - val_accuracy: 0.7818\n",
            "Epoch 2/10\n",
            "25/25 [==============================] - 24s 976ms/step - loss: 0.3933 - accuracy: 0.8037 - val_loss: 0.3098 - val_accuracy: 0.9064\n",
            "Epoch 3/10\n",
            "25/25 [==============================] - 24s 971ms/step - loss: 0.1590 - accuracy: 0.9661 - val_loss: 0.1329 - val_accuracy: 0.9704\n",
            "Epoch 4/10\n",
            "25/25 [==============================] - 24s 966ms/step - loss: 0.0837 - accuracy: 0.9964 - val_loss: 0.0915 - val_accuracy: 0.9908\n",
            "Epoch 5/10\n",
            "25/25 [==============================] - 24s 963ms/step - loss: 0.0697 - accuracy: 0.9995 - val_loss: 0.0809 - val_accuracy: 0.9932\n",
            "Epoch 6/10\n",
            "25/25 [==============================] - 25s 981ms/step - loss: 0.0636 - accuracy: 0.9994 - val_loss: 0.0811 - val_accuracy: 0.9893\n",
            "Epoch 7/10\n",
            "25/25 [==============================] - 25s 980ms/step - loss: 0.0583 - accuracy: 0.9995 - val_loss: 0.0715 - val_accuracy: 0.9942\n",
            "Epoch 8/10\n",
            "25/25 [==============================] - 25s 988ms/step - loss: 0.0542 - accuracy: 0.9994 - val_loss: 0.0684 - val_accuracy: 0.9942\n",
            "Epoch 9/10\n",
            "25/25 [==============================] - 24s 972ms/step - loss: 0.0499 - accuracy: 0.9995 - val_loss: 0.0669 - val_accuracy: 0.9898\n",
            "Epoch 10/10\n",
            "25/25 [==============================] - 24s 964ms/step - loss: 0.0463 - accuracy: 0.9995 - val_loss: 0.0622 - val_accuracy: 0.9918\n"
          ]
        },
        {
          "output_type": "display_data",
          "data": {
            "image/png": "[encoded data removed]",
            "text/plain": [
              "<Figure size 432x288 with 1 Axes>"
            ]
          },
          "metadata": {}
        },
        {
          "output_type": "display_data",
          "data": {
            "image/png": "[encoded data removed]",
            "text/plain": [
              "<Figure size 432x288 with 1 Axes>"
            ]
          },
          "metadata": {}
        },
        {
          "output_type": "stream",
          "name": "stdout",
          "text": [
            "\n",
            "Epoch No.  Train Accuracy  Train Loss     Val Accuracy    Val Loss\n",
            "       1   0.756543 \t   0.544905 \t   0.781765 \t   0.495326\n",
            "       2   0.803716 \t   0.393291 \t   0.906402 \t   0.309811\n",
            "       3   0.966074 \t   0.158973 \t   0.970417 \t   0.132918\n",
            "       4   0.996446 \t   0.083705 \t   0.990786 \t   0.091455\n",
            "       5   0.999515 \t   0.069694 \t   0.993210 \t   0.080900\n",
            "       6   0.999354 \t   0.063621 \t   0.989331 \t   0.081090\n",
            "       7   0.999515 \t   0.058315 \t   0.994180 \t   0.071482\n",
            "       8   0.999354 \t   0.054175 \t   0.994180 \t   0.068415\n",
            "       9   0.999515 \t   0.049854 \t   0.989816 \t   0.066942\n",
            "      10   0.999515 \t   0.046330 \t   0.991756 \t   0.062178\n"
          ]
        }
      ]
    },
    {
      "cell_type": "markdown",
      "metadata": {
        "id": "TyFEiBlM20nr"
      },
      "source": [
        "### Train Data Performance"
      ]
    },
    {
      "cell_type": "code",
      "metadata": {
        "colab": {
          "base_uri": "https://localhost:8080/",
          "height": 401
        },
        "id": "IlTlpLrtgfMt",
        "outputId": "d9465149-be50-4614-b7f6-f53d9737a764"
      },
      "source": [
        "y_pred = model.predict(train_seqs)\n",
        "y_pred = np.where(y_pred > 0.5, 1, 0)\n",
        "y_pred = np.reshape(y_pred, (y_pred.shape[0]))\n",
        "\n",
        "loss, accuracy = model.evaluate(train_seqs, trainY, verbose = 1)\n",
        "print('Train Loss:', loss)\n",
        "print('Train Accuracy:', accuracy, '(Model Metric)')\n",
        "print('Train Accuracy:', accuracy_score(trainY, y_pred), '(sklearn Metric)')\n",
        "print('Train Precision:', precision_score(trainY, y_pred))\n",
        "print('Train Recall:', recall_score(trainY, y_pred))\n",
        "print('Train F1-score:', f1_score(trainY, y_pred))\n",
        "\n",
        "sns.heatmap(confusion_matrix(trainY, y_pred), annot = True, fmt = 'g')"
      ],
      "execution_count": 58,
      "outputs": [
        {
          "output_type": "stream",
          "name": "stdout",
          "text": [
            "194/194 [==============================] - 14s 65ms/step - loss: 0.0446 - accuracy: 0.9995\n",
            "Train Loss: 0.044621989130973816\n",
            "Train Accuracy: 0.9995153546333313 (Model Metric)\n",
            "Train Accuracy: 0.9995153473344104 (sklearn Metric)\n",
            "Train Precision: 1.0\n",
            "Train Recall: 0.9978662873399715\n",
            "Train F1-score: 0.9989320042719829\n"
          ]
        },
        {
          "output_type": "execute_result",
          "data": {
            "text/plain": [
              "<matplotlib.axes._subplots.AxesSubplot at 0x7f3ed4800e90>"
            ]
          },
          "metadata": {},
          "execution_count": 58
        },
        {
          "output_type": "display_data",
          "data": {
            "image/png": "[encoded data removed]",
            "text/plain": [
              "<Figure size 432x288 with 2 Axes>"
            ]
          },
          "metadata": {}
        }
      ]
    },
    {
      "cell_type": "markdown",
      "metadata": {
        "id": "2iySVDHT25d6"
      },
      "source": [
        "### Val Data Performance"
      ]
    },
    {
      "cell_type": "code",
      "metadata": {
        "colab": {
          "base_uri": "https://localhost:8080/",
          "height": 401
        },
        "id": "_D7KdFvHhHOS",
        "outputId": "29b1c5b7-7f84-4f7f-955b-866033aafec5"
      },
      "source": [
        "y_pred = model.predict(val_seqs)\n",
        "\n",
        "y_pred = np.where(y_pred > 0.5, 1, 0)\n",
        "y_pred = np.reshape(y_pred, (y_pred.shape[0]))\n",
        "\n",
        "loss, accuracy = model.evaluate(val_seqs, valY, verbose = 1)\n",
        "print('Validation Loss:', loss)\n",
        "print('Validation Accuracy:', accuracy, '(Model Metric)')\n",
        "print('Validation Accuracy:', accuracy_score(valY, y_pred), '(sklearn Metric)')\n",
        "print('Validation Precision:', precision_score(valY, y_pred))\n",
        "print('Validation Recall:', recall_score(valY, y_pred))\n",
        "print('Validation F1-score:', f1_score(valY, y_pred))\n",
        "\n",
        "sns.heatmap(confusion_matrix(valY, y_pred), annot = True, fmt = 'g')"
      ],
      "execution_count": 59,
      "outputs": [
        {
          "output_type": "stream",
          "name": "stdout",
          "text": [
            "65/65 [==============================] - 4s 55ms/step - loss: 0.0622 - accuracy: 0.9918\n",
            "Validation Loss: 0.06217782571911812\n",
            "Validation Accuracy: 0.9917556047439575 (Model Metric)\n",
            "Validation Accuracy: 0.9917555771096024 (sklearn Metric)\n",
            "Validation Precision: 0.9845474613686535\n",
            "Validation Recall: 0.9780701754385965\n",
            "Validation F1-score: 0.9812981298129814\n"
          ]
        },
        {
          "output_type": "execute_result",
          "data": {
            "text/plain": [
              "<matplotlib.axes._subplots.AxesSubplot at 0x7f3ecfe9fa10>"
            ]
          },
          "metadata": {},
          "execution_count": 59
        },
        {
          "output_type": "display_data",
          "data": {
            "image/png": "[encoded data removed]",
            "text/plain": [
              "<Figure size 432x288 with 2 Axes>"
            ]
          },
          "metadata": {}
        }
      ]
    },
    {
      "cell_type": "markdown",
      "metadata": {
        "id": "DHudDMkw28oS"
      },
      "source": [
        "### Test Data Performance"
      ]
    },
    {
      "cell_type": "code",
      "metadata": {
        "colab": {
          "base_uri": "https://localhost:8080/",
          "height": 404
        },
        "id": "SWt3knXRMnJ6",
        "outputId": "f900a284-8dc5-4679-b2b1-00dafd70f130"
      },
      "source": [
        "y_pred = model.predict(test_seqs)\n",
        "\n",
        "y_pred = np.where(y_pred > 0.5, 1, 0)\n",
        "y_pred = np.reshape(y_pred, (y_pred.shape[0]))\n",
        "\n",
        "loss, accuracy = model.evaluate(test_seqs, testY, verbose = 1)\n",
        "print('Test Loss:', loss)\n",
        "print('Test Accuracy:', accuracy, '(Model Metric)')\n",
        "print('Test Accuracy:', accuracy_score(testY, y_pred), '(sklearn Metric)')\n",
        "print('Test Precision:', precision_score(testY, y_pred))\n",
        "print('Test Recall:', recall_score(testY, y_pred))\n",
        "print('Test F1-score:', f1_score(testY, y_pred))\n",
        "\n",
        "sns.heatmap(confusion_matrix(testY, y_pred), annot = True, fmt = 'g')"
      ],
      "execution_count": 60,
      "outputs": [
        {
          "output_type": "stream",
          "name": "stdout",
          "text": [
            "65/65 [==============================] - 4s 50ms/step - loss: 0.0565 - accuracy: 0.9952\n",
            "Test Loss: 0.056538719683885574\n",
            "Test Accuracy: 0.9951503276824951 (Model Metric)\n",
            "Test Accuracy: 0.9951503394762367 (sklearn Metric)\n",
            "Test Precision: 0.9933035714285714\n",
            "Test Recall: 0.9845132743362832\n",
            "Test F1-score: 0.9888888888888889\n"
          ]
        },
        {
          "output_type": "execute_result",
          "data": {
            "text/plain": [
              "<matplotlib.axes._subplots.AxesSubplot at 0x7f3ed48276d0>"
            ]
          },
          "metadata": {},
          "execution_count": 60
        },
        {
          "output_type": "display_data",
          "data": {
            "image/png": "[encoded data removed]",
            "text/plain": [
              "<Figure size 432x288 with 2 Axes>"
            ]
          },
          "metadata": {}
        }
      ]
    }
  ]
}